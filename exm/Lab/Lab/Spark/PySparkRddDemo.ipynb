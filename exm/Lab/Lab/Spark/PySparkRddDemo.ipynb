{
 "cells": [
  {
   "cell_type": "code",
   "execution_count": 57,
   "metadata": {
    "collapsed": true
   },
   "outputs": [],
   "source": [
    "import os\n",
    "import sys\n",
    "\n",
    "os.environ[\"SPARK_HOME\"] = \"/usr/spark2.4.3\"\n",
    "os.environ[\"PYLIB\"] = os.environ[\"SPARK_HOME\"] + \"/python/lib\"\n",
    "# In below two lines, use /usr/bin/python2.7 if you want to use Python 2\n",
    "os.environ[\"PYSPARK_PYTHON\"] = \"/usr/local/anaconda/bin/python\" \n",
    "os.environ[\"PYSPARK_DRIVER_PYTHON\"] = \"/usr/local/anaconda/bin/python\"\n",
    "sys.path.insert(0, os.environ[\"PYLIB\"] +\"/py4j-0.10.7-src.zip\")\n",
    "sys.path.insert(0, os.environ[\"PYLIB\"] +\"/pyspark.zip\")"
   ]
  },
  {
   "cell_type": "code",
   "execution_count": 58,
   "metadata": {
    "collapsed": true
   },
   "outputs": [
    {
     "ename": "ValueError",
     "evalue": "Cannot run multiple SparkContexts at once; existing SparkContext(app=appName, master=local[*]) created by __init__ at <ipython-input-3-470ac038cc01>:3 ",
     "output_type": "error",
     "traceback": [
      "\u001b[0;31m---------------------------------------------------------------------------\u001b[0m",
      "\u001b[0;31mValueError\u001b[0m                                Traceback (most recent call last)",
      "\u001b[0;32m<ipython-input-58-470ac038cc01>\u001b[0m in \u001b[0;36m<module>\u001b[0;34m\u001b[0m\n\u001b[1;32m      1\u001b[0m \u001b[0;32mfrom\u001b[0m \u001b[0mpyspark\u001b[0m \u001b[0;32mimport\u001b[0m \u001b[0mSparkContext\u001b[0m\u001b[0;34m,\u001b[0m \u001b[0mSparkConf\u001b[0m\u001b[0;34m\u001b[0m\u001b[0;34m\u001b[0m\u001b[0m\n\u001b[1;32m      2\u001b[0m \u001b[0mconf\u001b[0m \u001b[0;34m=\u001b[0m \u001b[0mSparkConf\u001b[0m\u001b[0;34m(\u001b[0m\u001b[0;34m)\u001b[0m\u001b[0;34m.\u001b[0m\u001b[0msetAppName\u001b[0m\u001b[0;34m(\u001b[0m\u001b[0;34m\"appName\"\u001b[0m\u001b[0;34m)\u001b[0m\u001b[0;34m\u001b[0m\u001b[0;34m\u001b[0m\u001b[0m\n\u001b[0;32m----> 3\u001b[0;31m \u001b[0msc\u001b[0m \u001b[0;34m=\u001b[0m \u001b[0mSparkContext\u001b[0m\u001b[0;34m(\u001b[0m\u001b[0mconf\u001b[0m\u001b[0;34m=\u001b[0m\u001b[0mconf\u001b[0m\u001b[0;34m)\u001b[0m\u001b[0;34m\u001b[0m\u001b[0;34m\u001b[0m\u001b[0m\n\u001b[0m",
      "\u001b[0;32m/usr/spark2.4.3/python/lib/pyspark.zip/pyspark/context.py\u001b[0m in \u001b[0;36m__init__\u001b[0;34m(self, master, appName, sparkHome, pyFiles, environment, batchSize, serializer, conf, gateway, jsc, profiler_cls)\u001b[0m\n\u001b[1;32m    131\u001b[0m                     \" note this option will be removed in Spark 3.0\")\n\u001b[1;32m    132\u001b[0m \u001b[0;34m\u001b[0m\u001b[0m\n\u001b[0;32m--> 133\u001b[0;31m         \u001b[0mSparkContext\u001b[0m\u001b[0;34m.\u001b[0m\u001b[0m_ensure_initialized\u001b[0m\u001b[0;34m(\u001b[0m\u001b[0mself\u001b[0m\u001b[0;34m,\u001b[0m \u001b[0mgateway\u001b[0m\u001b[0;34m=\u001b[0m\u001b[0mgateway\u001b[0m\u001b[0;34m,\u001b[0m \u001b[0mconf\u001b[0m\u001b[0;34m=\u001b[0m\u001b[0mconf\u001b[0m\u001b[0;34m)\u001b[0m\u001b[0;34m\u001b[0m\u001b[0;34m\u001b[0m\u001b[0m\n\u001b[0m\u001b[1;32m    134\u001b[0m         \u001b[0;32mtry\u001b[0m\u001b[0;34m:\u001b[0m\u001b[0;34m\u001b[0m\u001b[0;34m\u001b[0m\u001b[0m\n\u001b[1;32m    135\u001b[0m             self._do_init(master, appName, sparkHome, pyFiles, environment, batchSize, serializer,\n",
      "\u001b[0;32m/usr/spark2.4.3/python/lib/pyspark.zip/pyspark/context.py\u001b[0m in \u001b[0;36m_ensure_initialized\u001b[0;34m(cls, instance, gateway, conf)\u001b[0m\n\u001b[1;32m    330\u001b[0m                         \u001b[0;34m\" created by %s at %s:%s \"\u001b[0m\u001b[0;34m\u001b[0m\u001b[0;34m\u001b[0m\u001b[0m\n\u001b[1;32m    331\u001b[0m                         % (currentAppName, currentMaster,\n\u001b[0;32m--> 332\u001b[0;31m                             callsite.function, callsite.file, callsite.linenum))\n\u001b[0m\u001b[1;32m    333\u001b[0m                 \u001b[0;32melse\u001b[0m\u001b[0;34m:\u001b[0m\u001b[0;34m\u001b[0m\u001b[0;34m\u001b[0m\u001b[0m\n\u001b[1;32m    334\u001b[0m                     \u001b[0mSparkContext\u001b[0m\u001b[0;34m.\u001b[0m\u001b[0m_active_spark_context\u001b[0m \u001b[0;34m=\u001b[0m \u001b[0minstance\u001b[0m\u001b[0;34m\u001b[0m\u001b[0;34m\u001b[0m\u001b[0m\n",
      "\u001b[0;31mValueError\u001b[0m: Cannot run multiple SparkContexts at once; existing SparkContext(app=appName, master=local[*]) created by __init__ at <ipython-input-3-470ac038cc01>:3 "
     ]
    }
   ],
   "source": [
    "from pyspark import SparkContext, SparkConf\n",
    "conf = SparkConf().setAppName(\"appName\")\n",
    "sc = SparkContext(conf=conf)"
   ]
  },
  {
   "cell_type": "code",
   "execution_count": 61,
   "metadata": {},
   "outputs": [
    {
     "name": "stdout",
     "output_type": "stream",
     "text": [
      "Python version for Spark:  3.6\n"
     ]
    }
   ],
   "source": [
    "# Show the version of Python used by Spark\n",
    "print('Python version for Spark: ', sc.pythonVer)"
   ]
  },
  {
   "cell_type": "code",
   "execution_count": 62,
   "metadata": {},
   "outputs": [
    {
     "name": "stdout",
     "output_type": "stream",
     "text": [
      "Master of Spark Context:  local[*]\n"
     ]
    }
   ],
   "source": [
    "# Master is the URL of the cluster or “local” string to run in local mode.\n",
    "print('Master of Spark Context: ', sc.master)"
   ]
  },
  {
   "cell_type": "code",
   "execution_count": 63,
   "metadata": {},
   "outputs": [
    {
     "data": {
      "text/plain": [
       "[1, 2, 3, 4, 5, 6, 7, 8, 9, 10]"
      ]
     },
     "execution_count": 63,
     "metadata": {},
     "output_type": "execute_result"
    }
   ],
   "source": [
    "### Use of lambda() with map()\n",
    "my_list = [1, 2, 3, 4, 5, 6, 7, 8, 9, 10]\n",
    "my_list"
   ]
  },
  {
   "cell_type": "code",
   "execution_count": 64,
   "metadata": {},
   "outputs": [
    {
     "name": "stdout",
     "output_type": "stream",
     "text": [
      "Input list is [1, 2, 3, 4, 5, 6, 7, 8, 9, 10]\n"
     ]
    }
   ],
   "source": [
    "# Print my_list in the console\n",
    "print(\"Input list is\", my_list)"
   ]
  },
  {
   "cell_type": "code",
   "execution_count": 66,
   "metadata": {},
   "outputs": [],
   "source": [
    "# Square all numbers in my_list\n",
    "squared_list_lambda = list(map(lambda x: x**2, my_list))"
   ]
  },
  {
   "cell_type": "code",
   "execution_count": 67,
   "metadata": {},
   "outputs": [
    {
     "name": "stdout",
     "output_type": "stream",
     "text": [
      "The squared numbers are [1, 4, 9, 16, 25, 36, 49, 64, 81, 100]\n"
     ]
    }
   ],
   "source": [
    "# Print the result of the map function\n",
    "print(\"The squared numbers are\", squared_list_lambda)"
   ]
  },
  {
   "cell_type": "code",
   "execution_count": 68,
   "metadata": {},
   "outputs": [
    {
     "name": "stdout",
     "output_type": "stream",
     "text": [
      "Input list is: [10, 21, 31, 40, 51, 60, 72, 80, 93, 101]\n"
     ]
    }
   ],
   "source": [
    "### Use of lambda() with filter()\n",
    "my_list2 = [10, 21, 31, 40, 51, 60, 72, 80, 93, 101]\n",
    "# Print my_list2 in the console\n",
    "print(\"Input list is:\", my_list2)"
   ]
  },
  {
   "cell_type": "code",
   "execution_count": 69,
   "metadata": {},
   "outputs": [
    {
     "name": "stdout",
     "output_type": "stream",
     "text": [
      "Numbers divisible by 10 are: [10, 40, 60, 80]\n"
     ]
    }
   ],
   "source": [
    "# Filter numbers divisible by 10\n",
    "filtered_list = list(filter(lambda x: (x%10 == 0), my_list2))\n",
    "# Print the numbers divisible by 10\n",
    "print(\"Numbers divisible by 10 are:\", filtered_list)"
   ]
  },
  {
   "cell_type": "code",
   "execution_count": 73,
   "metadata": {},
   "outputs": [
    {
     "name": "stdout",
     "output_type": "stream",
     "text": [
      "['Spark', 'is', 'a', 'framework', 'for', 'Big Data processing']\n"
     ]
    }
   ],
   "source": [
    "mylist = [\"Spark\", \"is\", \"a\", \"framework\", \"for\", \"Big Data processing\"]\n",
    "print(mylist)"
   ]
  },
  {
   "cell_type": "code",
   "execution_count": 74,
   "metadata": {},
   "outputs": [
    {
     "name": "stdout",
     "output_type": "stream",
     "text": [
      "The type of RDD is <class 'pyspark.rdd.RDD'>\n"
     ]
    }
   ],
   "source": [
    "### 1. Create RDD from a collection and turn it into parallelized collection\n",
    "# Use parallelize method for parallelizing an existing collection of objects (e.g. list, array, etc).\n",
    "\n",
    "# Create an RDD from a list of words\n",
    "myRDD = sc.parallelize(mylist)\n",
    "\n",
    "# Print out the type of the created object\n",
    "print(\"The type of RDD is\", type(myRDD))"
   ]
  },
  {
   "cell_type": "code",
   "execution_count": 75,
   "metadata": {},
   "outputs": [
    {
     "name": "stdout",
     "output_type": "stream",
     "text": [
      "Spark\n",
      "is\n",
      "a\n",
      "framework\n",
      "for\n",
      "Big Data processing\n"
     ]
    }
   ],
   "source": [
    "for eachword in myRDD.collect():\n",
    "    print(eachword)"
   ]
  },
  {
   "cell_type": "code",
   "execution_count": 76,
   "metadata": {},
   "outputs": [
    {
     "name": "stdout",
     "output_type": "stream",
     "text": [
      "The file_path is Spark.md\n",
      "The file type of fileRDD is <class 'pyspark.rdd.RDD'>\n"
     ]
    }
   ],
   "source": [
    "### 2. Create RDD from external dataset\n",
    "# Use textFile metod to load data from external datasets (e.g. files in HDFS, Amazon S3 objects, local text files).\n",
    "# This the most common method to create RDDs\n",
    "\n",
    "# Make sure the data file has been uploaded to the Databricks file system\n",
    "file_path='Spark.md'\n",
    "\n",
    "# Print the file_path\n",
    "print(\"The file_path is\", file_path)\n",
    "\n",
    "# Create a fileRDD from file_path\n",
    "fileRDD = sc.textFile(file_path)\n",
    "\n",
    "# Check the type of fileRDD\n",
    "print(\"The file type of fileRDD is\", type(fileRDD))"
   ]
  },
  {
   "cell_type": "code",
   "execution_count": 77,
   "metadata": {},
   "outputs": [
    {
     "name": "stdout",
     "output_type": "stream",
     "text": [
      "1\n",
      "2\n",
      "3\n",
      "4\n",
      "5\n",
      "6\n",
      "7\n",
      "8\n",
      "9\n",
      "10\n"
     ]
    }
   ],
   "source": [
    "### 1. Map and collection on RDD\n",
    "numbRDD = sc.parallelize([1, 2, 3, 4, 5, 6, 7, 8, 9, 10])\n",
    "for eachnum in numbRDD.collect():\n",
    "    print(eachnum)"
   ]
  },
  {
   "cell_type": "code",
   "execution_count": 79,
   "metadata": {},
   "outputs": [
    {
     "name": "stdout",
     "output_type": "stream",
     "text": [
      "1.0\n",
      "0.5\n",
      "0.3333333333333333\n",
      "0.25\n",
      "0.2\n",
      "0.16666666666666666\n",
      "0.14285714285714285\n",
      "0.125\n",
      "0.1111111111111111\n",
      "0.1\n"
     ]
    }
   ],
   "source": [
    "#Create map() transformation to cube numbers\n",
    "ReciRDD = numbRDD.map(lambda x: 1/x)\n",
    "for rv in ReciRDD.collect():\n",
    "    print(rv)"
   ]
  },
  {
   "cell_type": "code",
   "execution_count": 80,
   "metadata": {},
   "outputs": [],
   "source": [
    "### 2. Filter and count on RDD\n",
    "# Make sure the data file has been uploaded to the Databricks file system\n",
    "file_path='sample.txt'\n",
    "# Create a fileRDD from file_path\n",
    "fileRDD = sc.textFile(file_path)"
   ]
  },
  {
   "cell_type": "code",
   "execution_count": 83,
   "metadata": {},
   "outputs": [
    {
     "name": "stdout",
     "output_type": "stream",
     "text": [
      "Hi!\n",
      "\n",
      "This is first class for learning Big Data Technologies.\n",
      "\n",
      "I love teaching this course to you.\n",
      "\n",
      "Learning is fun.\n",
      "\n",
      "Join me in having hands-on experience in big data tools.\n"
     ]
    }
   ],
   "source": [
    "for eachline in fileRDD.take(10):\n",
    "    print(eachline)"
   ]
  },
  {
   "cell_type": "code",
   "execution_count": 85,
   "metadata": {},
   "outputs": [
    {
     "name": "stdout",
     "output_type": "stream",
     "text": [
      "This is first class for learning Big Data Technologies.\n",
      "I love teaching this course to you.\n",
      "Learning is fun.\n",
      "Join me in having hands-on experience in big data tools.\n"
     ]
    }
   ],
   "source": [
    "# Create filter() transformation to select the lines containing the keyword Spark\n",
    "fileRDD_filter = fileRDD.filter(lambda line: 'in' in line)\n",
    "for eachline in fileRDD_filter.collect():\n",
    "    print(eachline)"
   ]
  },
  {
   "cell_type": "code",
   "execution_count": 88,
   "metadata": {},
   "outputs": [
    {
     "name": "stdout",
     "output_type": "stream",
     "text": [
      "\n",
      " The total number of lines with the keyword Spark is 4\n"
     ]
    }
   ],
   "source": [
    "# How many lines are there in fileRDD?\n",
    "print(\"\\n The total number of lines with the keyword Spark is\", fileRDD_filter.count())"
   ]
  },
  {
   "cell_type": "code",
   "execution_count": 89,
   "metadata": {},
   "outputs": [
    {
     "data": {
      "text/plain": [
       "'This is first class for learning Big Data Technologies.'"
      ]
     },
     "execution_count": 89,
     "metadata": {},
     "output_type": "execute_result"
    }
   ],
   "source": [
    "### 3. First and take on RDD\n",
    "# Print the first line filtered fileRDD\n",
    "fileRDD_filter.first()"
   ]
  },
  {
   "cell_type": "code",
   "execution_count": 90,
   "metadata": {},
   "outputs": [
    {
     "name": "stdout",
     "output_type": "stream",
     "text": [
      "This is first class for learning Big Data Technologies.\n",
      "I love teaching this course to you.\n",
      "Learning is fun.\n"
     ]
    }
   ],
   "source": [
    "# Print the first 3 lines of filtered fileRDD\n",
    "for line in fileRDD_filter.take(3):\n",
    "    print(line)"
   ]
  },
  {
   "cell_type": "code",
   "execution_count": 93,
   "metadata": {},
   "outputs": [
    {
     "name": "stdout",
     "output_type": "stream",
     "text": [
      "This\n",
      "is\n",
      "first\n",
      "class\n",
      "for\n"
     ]
    }
   ],
   "source": [
    "### 4. flatMap on RDD\n",
    "# split the lines of the filtered fileRDD into individual words\n",
    "fileRDD_flatMap = fileRDD_filter.flatMap(lambda x: x.split(' '))\n",
    "\n",
    "# Print the first 10 words of the\n",
    "for word in fileRDD_flatMap.take(5):\n",
    "    print(word)"
   ]
  },
  {
   "cell_type": "code",
   "execution_count": 94,
   "metadata": {},
   "outputs": [
    {
     "data": {
      "text/plain": [
       "['Hi!',\n",
       " '',\n",
       " 'This is first class for learning Big Data Technologies.',\n",
       " '',\n",
       " 'I love teaching this course to you.',\n",
       " '',\n",
       " 'Learning is fun.',\n",
       " '',\n",
       " 'Join me in having hands-on experience in big data tools.']"
      ]
     },
     "execution_count": 94,
     "metadata": {},
     "output_type": "execute_result"
    }
   ],
   "source": [
    "fileRDD.collect()"
   ]
  },
  {
   "cell_type": "code",
   "execution_count": 97,
   "metadata": {},
   "outputs": [],
   "source": [
    "### 1. ReduceBykey and Collect\n",
    "# reduceByKey() operates on key, value (k,v) pairs and\n",
    "# merges the values for each key\n",
    "\n",
    "# Create PairRDD Rdd with key value pairs (player, goal)\n",
    "Rdd = sc.parallelize([('Messi', 23), ('Ronaldo', 34), ('Ronaldo', 25), ('Neymar', 26), ('Messi',24)])"
   ]
  },
  {
   "cell_type": "code",
   "execution_count": 98,
   "metadata": {},
   "outputs": [],
   "source": [
    "# Transform the RDD with reduceByKey() into a pair RDD 'Rdd_Reduced'\n",
    "# by adding the values with the same key.\n",
    "Rdd_Reduced = Rdd.reduceByKey(lambda x, y: x + y)"
   ]
  },
  {
   "cell_type": "code",
   "execution_count": 99,
   "metadata": {},
   "outputs": [
    {
     "name": "stdout",
     "output_type": "stream",
     "text": [
      "Key Ronaldo has 59 Counts\n",
      "Key Messi has 47 Counts\n",
      "Key Neymar has 26 Counts\n"
     ]
    }
   ],
   "source": [
    "# Iterate over the result and print the output\n",
    "for num in Rdd_Reduced.collect():\n",
    "    print(\"Key {} has {} Counts\".format(num[0], num[1]))"
   ]
  },
  {
   "cell_type": "code",
   "execution_count": 28,
   "metadata": {
    "collapsed": true
   },
   "outputs": [
    {
     "name": "stdout",
     "output_type": "stream",
     "text": [
      "\n",
      "Sort by player name by descending order:\n",
      " \n",
      "Ronaldo has 59 goals\n",
      "Neymar has 26 goals\n",
      "Messi has 47 goals\n"
     ]
    }
   ],
   "source": [
    "### 2. SortByKey and Collect\n",
    "# sortByKey() sorts the pair RDD based on the key\n",
    "# Sort the reduced RDD with the key (i.e. player name) by descending order\n",
    "Rdd_Reduced_Sort = Rdd_Reduced.sortByKey(ascending=False)\n",
    "\n",
    "# Iterate over the result and print the output\n",
    "print('\\nSort by player name by descending order:\\n ')\n",
    "for kv in Rdd_Reduced_Sort.collect():\n",
    "    print('{} has {} goals'.format(kv[0], kv[1]))"
   ]
  },
  {
   "cell_type": "code",
   "execution_count": 29,
   "metadata": {
    "code_folding": [],
    "collapsed": true
   },
   "outputs": [
    {
     "name": "stdout",
     "output_type": "stream",
     "text": [
      "\n",
      "Sort by number of goals by ascending order:\n",
      "\n",
      "Neymar has 26 goals\n",
      "Messi has 47 goals\n",
      "Ronaldo has 59 goals\n"
     ]
    }
   ],
   "source": [
    "# Sort the reduced RDD with number of goals by ascending order\n",
    "Rdd_Reduced_Rev = Rdd_Reduced.map(lambda x: (x[1], x[0])) # swap key with value\n",
    "print(\"\\nSort by number of goals by ascending order:\\n\")\n",
    "for kv in Rdd_Reduced_Rev.sortByKey(ascending=True).collect(): # sort by number of goals ascendingly\n",
    "    print('{} has {} goals'.format(kv[1], kv[0]))"
   ]
  },
  {
   "cell_type": "code",
   "execution_count": 30,
   "metadata": {
    "collapsed": true
   },
   "outputs": [
    {
     "name": "stdout",
     "output_type": "stream",
     "text": [
      "\n",
      "Group airports in each country:\n",
      "US ['JFK', 'SFO']\n",
      "UK ['LHR', 'MAN', 'LGW']\n",
      "FR ['CDG']\n"
     ]
    }
   ],
   "source": [
    "### 3. GroupByKey and Join\n",
    "# group the airports for the same country with groupByKey() transformation\n",
    "airports = [('US', 'JFK'), ('UK', 'LHR'), ('UK', 'MAN'), ('US', 'SFO'), ('UK', 'LGW'), ('FR', 'CDG')]\n",
    "Rdd = sc.parallelize(airports)\n",
    "Rdd_group = Rdd.groupByKey().collect()\n",
    "print('\\nGroup airports in each country:')\n",
    "for country, airport in Rdd_group:\n",
    "    print(country, list(airport))"
   ]
  },
  {
   "cell_type": "code",
   "execution_count": 31,
   "metadata": {
    "collapsed": true
   },
   "outputs": [
    {
     "name": "stdout",
     "output_type": "stream",
     "text": [
      "\n",
      "Merge RDDs:\n"
     ]
    },
    {
     "data": {
      "text/plain": [
       "[('Neymar', (24, 50)), ('Ronaldo', (32, 80)), ('Messi', (34, 80))]"
      ]
     },
     "execution_count": 31,
     "metadata": {},
     "output_type": "execute_result"
    }
   ],
   "source": [
    "# Merge two pair RDDs together based on their key with join() transformation\n",
    "Rdd1 = sc.parallelize([('Messi', 34), ('Ronaldo', 32), ('Neymar', 24)])\n",
    "Rdd2= sc.parallelize([('Ronaldo', 80), ('Neymar', 50), ('Messi', 80)])\n",
    "print('\\nMerge RDDs:')\n",
    "Rdd1.join(Rdd2).collect()"
   ]
  },
  {
   "cell_type": "code",
   "execution_count": 33,
   "metadata": {
    "collapsed": true
   },
   "outputs": [
    {
     "name": "stdout",
     "output_type": "stream",
     "text": [
      "a : 3\n",
      "b : 1\n"
     ]
    }
   ],
   "source": [
    "### 1. CountByKey\n",
    "# Keys for a pair RDD can be counted by countByKey() action.\n",
    "# count the number of elements for each key\n",
    "Rdd = sc.parallelize([('a', 1), ('b', 1), ('a', 2), ('a', 3)])\n",
    "for key, val in Rdd.countByKey().items():\n",
    "    print(key, ':', val)"
   ]
  },
  {
   "cell_type": "code",
   "execution_count": 34,
   "metadata": {
    "collapsed": true
   },
   "outputs": [
    {
     "name": "stdout",
     "output_type": "stream",
     "text": [
      "Result of reduce:  16\n"
     ]
    }
   ],
   "source": [
    "### 2. Reduce\n",
    "# use reduce() to compute the sum of all elements in a RDD\n",
    "x = [1, 3, 5 , 7]\n",
    "RDD = sc.parallelize(x)\n",
    "sum = RDD.reduce(lambda x, y: x+y)\n",
    "print('Result of reduce: ', sum)"
   ]
  },
  {
   "cell_type": "code",
   "execution_count": 35,
   "metadata": {
    "collapsed": true
   },
   "outputs": [],
   "source": [
    "### 3. SaveAsTextFile\n",
    "x = ['Sam', 'Peter', 'Alice', 'Tom']\n",
    "RDD = sc.parallelize(x)\n",
    "RDD.saveAsTextFile('tempFile1') # check your current working directory and see if a new directory created\n",
    "RDD.coalesce(1).saveAsTextFile('tempFile2') # Save as a single file"
   ]
  },
  {
   "cell_type": "code",
   "execution_count": 37,
   "metadata": {
    "collapsed": true
   },
   "outputs": [
    {
     "name": "stdout",
     "output_type": "stream",
     "text": [
      "Type of result:  <class 'dict'>\n",
      "Result of collectAsMap:  {1: 2, 3: 4}\n"
     ]
    }
   ],
   "source": [
    "### 4. CollectAsMap\n",
    "dict= sc.parallelize([(1,2), (3,4)]).collectAsMap()\n",
    "print('Type of result: ', type(dict))\n",
    "print('Result of collectAsMap: ', dict)"
   ]
  },
  {
   "cell_type": "code",
   "execution_count": null,
   "metadata": {
    "collapsed": true
   },
   "outputs": [],
   "source": []
  }
 ],
 "metadata": {
  "kernelspec": {
   "display_name": "Python 3",
   "language": "python",
   "name": "python3"
  },
  "language_info": {
   "codemirror_mode": {
    "name": "ipython",
    "version": 3
   },
   "file_extension": ".py",
   "mimetype": "text/x-python",
   "name": "python",
   "nbconvert_exporter": "python",
   "pygments_lexer": "ipython3",
   "version": "3.6.8"
  },
  "toc": {
   "base_numbering": 1,
   "nav_menu": {},
   "number_sections": true,
   "sideBar": true,
   "skip_h1_title": false,
   "title_cell": "Table of Contents",
   "title_sidebar": "Contents",
   "toc_cell": false,
   "toc_position": {},
   "toc_section_display": true,
   "toc_window_display": false
  }
 },
 "nbformat": 4,
 "nbformat_minor": 2
}
