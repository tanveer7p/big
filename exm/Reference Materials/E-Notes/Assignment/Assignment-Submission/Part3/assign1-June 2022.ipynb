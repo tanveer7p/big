{
 "cells": [
  {
   "cell_type": "code",
   "execution_count": 1,
   "metadata": {},
   "outputs": [],
   "source": [
    "import os\n",
    "import sys\n",
    "\n",
    "os.environ[\"SPARK_HOME\"] = \"/usr/spark2.4.3\"\n",
    "os.environ[\"PYLIB\"] = os.environ[\"SPARK_HOME\"] + \"/python/lib\"\n",
    "# In below two lines, use /usr/bin/python2.7 if you want to use Python 2\n",
    "os.environ[\"PYSPARK_PYTHON\"] = \"/usr/local/anaconda/bin/python\" \n",
    "os.environ[\"PYSPARK_DRIVER_PYTHON\"] = \"/usr/local/anaconda/bin/python\"\n",
    "sys.path.insert(0, os.environ[\"PYLIB\"] +\"/py4j-0.10.7-src.zip\")\n",
    "sys.path.insert(0, os.environ[\"PYLIB\"] +\"/pyspark.zip\")"
   ]
  },
  {
   "cell_type": "code",
   "execution_count": 2,
   "metadata": {},
   "outputs": [],
   "source": [
    "from pyspark import SparkContext, SparkConf\n",
    "conf = SparkConf().setAppName(\"appName\")\n",
    "sc = SparkContext(conf=conf)"
   ]
  },
  {
   "cell_type": "code",
   "execution_count": 3,
   "metadata": {},
   "outputs": [
    {
     "name": "stdout",
     "output_type": "stream",
     "text": [
      "Python version for Spark:  3.6\n"
     ]
    }
   ],
   "source": [
    "# Show the version of Python used by Spark\n",
    "print('Python version for Spark: ', sc.pythonVer)"
   ]
  },
  {
   "cell_type": "code",
   "execution_count": 4,
   "metadata": {},
   "outputs": [
    {
     "name": "stdout",
     "output_type": "stream",
     "text": [
      "Master of Spark Context:  local[*]\n"
     ]
    }
   ],
   "source": [
    "# Master is the URL of the cluster or “local” string to run in local mode.\n",
    "print('Master of Spark Context: ', sc.master)"
   ]
  },
  {
   "cell_type": "code",
   "execution_count": 5,
   "metadata": {},
   "outputs": [],
   "source": [
    "### Use of lambda() with map()\n",
    "stopwords = ['i', 'me', 'my', 'myself', 'we', 'our', 'ours', 'ourselves', 'you', 'your', 'yours', 'yourself', 'yourselves', \n",
    "'he', 'him', 'his', 'himself', 'she', 'her', 'hers', 'herself', 'it', 'its', 'itself', 'they', 'them', 'their', 'theirs', \n",
    "'themselves', 'what', 'which', 'who', 'whom', 'this', 'that', 'these', 'those', 'am', 'is', 'are', 'was', 'were', \n",
    "'be', 'been', 'being', 'have', 'has', 'had', 'having', 'do', 'does', 'did', 'doing', 'a', 'an', 'the', 'and', 'but', 'if', \n",
    "'or', 'because', 'as', 'until', 'while', 'of', 'at', 'by', 'for', 'with', 'about', 'against', 'between', 'into', \n",
    "'through', 'during', 'before', 'after', 'above', 'below', 'to', 'from', 'up', 'down', 'in', 'out', 'on', 'off', 'over', \n",
    "'under', 'again', 'further', 'then', 'once', 'here', 'there', 'when', 'where', 'why', 'how', 'all', 'any', 'both', \n",
    "'each', 'few', 'more', 'most', 'other', 'some', 'such', 'no', 'nor', 'not', 'only', 'own', 'same', 'so', 'than', \n",
    "'too', 'very', 'can', 'will', 'just', 'don', 'should', 'now'] \n"
   ]
  },
  {
   "cell_type": "code",
   "execution_count": null,
   "metadata": {},
   "outputs": [],
   "source": []
  },
  {
   "cell_type": "code",
   "execution_count": 6,
   "metadata": {},
   "outputs": [
    {
     "name": "stdout",
     "output_type": "stream",
     "text": [
      "Complete-shakespere.txt\n",
      "<class 'pyspark.rdd.PipelinedRDD'>\n",
      "Complete-shakespere.txt MapPartitionsRDD[1] at textFile at NativeMethodAccessorImpl.java:0\n"
     ]
    }
   ],
   "source": [
    "### 2. Create RDD from external dataset\n",
    "# Use textFile metod to load data from external datasets (e.g. files in HDFS, Amazon S3 objects, local text files).\n",
    "# This the most common method to create RDDs\n",
    "\n",
    "# Make sure the data file has been uploaded to the Databricks file system\n",
    "file_path='Complete-shakespere.txt'\n",
    "fileRDD = sc.textFile(file_path)\n",
    "fileRDD_flatMap = fileRDD.flatMap(lambda x: x.split(' '))\n",
    "fileRDD_list= fileRDD_flatMap.filter(lambda x:x!='')\n",
    "\n",
    "#list_without_stop = StopWordsRemover(inputCol='words', outputCol='terms').transform(df_words1)\n",
    "print(file_path)\n",
    "print(type(fileRDD_list))\n",
    "print(fileRDD)\n"
   ]
  },
  {
   "cell_type": "code",
   "execution_count": 7,
   "metadata": {},
   "outputs": [],
   "source": [
    "#list_words=list(fileRDD_flatMap1.collect())"
   ]
  },
  {
   "cell_type": "code",
   "execution_count": null,
   "metadata": {},
   "outputs": [],
   "source": []
  },
  {
   "cell_type": "code",
   "execution_count": 8,
   "metadata": {},
   "outputs": [],
   "source": [
    "# Create filter() transformation to select the lines containing the keyword Spark\n",
    "# Square all numbers in my_list\n",
    "#filter_list = list(filter(lambda x: x not in stopwords, list_words))\n",
    "filter_list1 = fileRDD_list.filter(lambda x: x not in stopwords)\n",
    "filter_list = filter_list1.filter(lambda x: x not in stopwords)\n",
    "#for word1 in filter_list.collect():\n",
    " #   print(word1)"
   ]
  },
  {
   "cell_type": "code",
   "execution_count": 9,
   "metadata": {},
   "outputs": [],
   "source": [
    "filerdd_pair=filter_list.map(lambda x:(x,1))"
   ]
  },
  {
   "cell_type": "code",
   "execution_count": 10,
   "metadata": {},
   "outputs": [],
   "source": [
    "#for word2 in filerdd_pair.collect():\n",
    "   # print(word2)"
   ]
  },
  {
   "cell_type": "markdown",
   "metadata": {},
   "source": [
    "filerdd_pair=filter_list.map(lambda x:(x,1))"
   ]
  },
  {
   "cell_type": "code",
   "execution_count": 11,
   "metadata": {},
   "outputs": [
    {
     "name": "stdout",
     "output_type": "stream",
     "text": [
      "\n",
      " The total number of lines with the keyword Spark is 86079\n"
     ]
    }
   ],
   "source": [
    "# How many lines are there in fileRDD?\n",
    "print(\"\\n The total number of lines with the keyword Spark is\", filerdd_pair.count())"
   ]
  },
  {
   "cell_type": "code",
   "execution_count": null,
   "metadata": {},
   "outputs": [],
   "source": [
    "#rddgrp= filerdd_pair.groupByKey()\n",
    "rddcount = filerdd_pair.countByKey().items()\n",
    "resultRDD_swap = rddcount.map(lambda x: (x[1], x[0]))\n",
    "resultRDD_swap_sort = resultRDD_swap.sortByKey(ascending=False)\n",
    "    \n",
    "# Print the first 10 words of the\n",
    "for word in resultRDD_swap_sort.take(5):\n",
    "    print(word)"
   ]
  }
 ],
 "metadata": {
  "kernelspec": {
   "display_name": "Python 3",
   "language": "python",
   "name": "python3"
  },
  "language_info": {
   "codemirror_mode": {
    "name": "ipython",
    "version": 3
   },
   "file_extension": ".py",
   "mimetype": "text/x-python",
   "name": "python",
   "nbconvert_exporter": "python",
   "pygments_lexer": "ipython3",
   "version": "3.6.8"
  },
  "toc": {
   "base_numbering": 1,
   "nav_menu": {},
   "number_sections": true,
   "sideBar": true,
   "skip_h1_title": false,
   "title_cell": "Table of Contents",
   "title_sidebar": "Contents",
   "toc_cell": false,
   "toc_position": {},
   "toc_section_display": true,
   "toc_window_display": false
  }
 },
 "nbformat": 4,
 "nbformat_minor": 2
}
